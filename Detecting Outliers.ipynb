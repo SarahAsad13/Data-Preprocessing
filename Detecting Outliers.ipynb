{
 "cells": [
  {
   "cell_type": "code",
   "execution_count": 1,
   "id": "d9db5ef0",
   "metadata": {
    "tags": []
   },
   "outputs": [],
   "source": [
    "import numpy as np\n",
    "data = np.array([1,2,3,4,5,23,45,250])"
   ]
  },
  {
   "cell_type": "code",
   "execution_count": 2,
   "id": "93489c32-04f4-470c-90d0-01639474425c",
   "metadata": {
    "tags": []
   },
   "outputs": [
    {
     "name": "stdout",
     "output_type": "stream",
     "text": [
      "Outliers from Z-scores method:  [101]\n"
     ]
    }
   ],
   "source": [
    "#Detecting outliers using Z-score\n",
    "import numpy as np\n",
    "data= [15, 101, 18, 7, 13, 16, 11, 21, 5, 15, 10, 9]\n",
    "def detect_outliers(data):\n",
    "    outliers = []\n",
    "    threshold = 3\n",
    "    mean = np.mean(data)\n",
    "    std = np.std(data)\n",
    "    \n",
    "    for i in data:\n",
    "        z_score = (i - mean) / std\n",
    "        if np.abs(z_score) > threshold:\n",
    "            outliers.append(i)\n",
    "    return outliers\n",
    "outliers = detect_outliers(data)\n",
    "print(\"Outliers from Z-scores method: \", outliers)"
   ]
  },
  {
   "cell_type": "code",
   "execution_count": 3,
   "id": "1ce8ac17-4f02-4886-9124-ac57440e1495",
   "metadata": {
    "tags": []
   },
   "outputs": [
    {
     "name": "stdout",
     "output_type": "stream",
     "text": [
      "Outliers from IQR method:  [101]\n"
     ]
    }
   ],
   "source": [
    "#Detecting outliers using IQR\n",
    "def detect_outliers_iqr(data):\n",
    "    outliers = []\n",
    "    Q1 = np.percentile(data, 25)\n",
    "    Q3 = np.percentile(data, 75)\n",
    "    IQR = Q3 - Q1\n",
    "    lower_bound = Q1 - 1.5 * IQR\n",
    "    upper_bound = Q3 + 1.5 * IQR\n",
    "    \n",
    "    for i in data:\n",
    "        if i < lower_bound or i > upper_bound:\n",
    "            outliers.append(i)\n",
    "    return outliers\n",
    "\n",
    "sample_outliers_iqr = detect_outliers_iqr(data)\n",
    "print(\"Outliers from IQR method: \", sample_outliers_iqr)"
   ]
  },
  {
   "cell_type": "code",
   "execution_count": 4,
   "id": "e58d3f4d",
   "metadata": {
    "tags": []
   },
   "outputs": [
    {
     "data": {
      "text/plain": [
       "<Axes: >"
      ]
     },
     "execution_count": 4,
     "metadata": {},
     "output_type": "execute_result"
    },
    {
     "data": {
      "image/png": "[encoded data removed]",
      "text/plain": [
       "<Figure size 640x480 with 1 Axes>"
      ]
     },
     "metadata": {},
     "output_type": "display_data"
    }
   ],
   "source": [
    "#Detecting outliers using boxplot\n",
    "import seaborn as sns\n",
    "sns.boxplot(data)"
   ]
  },
  {
   "cell_type": "code",
   "execution_count": null,
   "id": "fd7dbeda-a4a6-4db4-96b7-c16044c5b722",
   "metadata": {},
   "outputs": [],
   "source": []
  }
 ],
 "metadata": {
  "kernelspec": {
   "display_name": "Python 3 (ipykernel)",
   "language": "python",
   "name": "python3"
  },
  "language_info": {
   "codemirror_mode": {
    "name": "ipython",
    "version": 3
   },
   "file_extension": ".py",
   "mimetype": "text/x-python",
   "name": "python",
   "nbconvert_exporter": "python",
   "pygments_lexer": "ipython3",
   "version": "3.11.5"
  }
 },
 "nbformat": 4,
 "nbformat_minor": 5
}
